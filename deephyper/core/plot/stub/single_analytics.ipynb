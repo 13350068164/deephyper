{
 "cells": [
  {
   "cell_type": "markdown",
   "metadata": {
    "ExecuteTime": {
     "end_time": "2019-05-06T21:59:04.765111Z",
     "start_time": "2019-05-06T21:59:04.762923Z"
    }
   },
   "source": [
    "# Deephyper analytics - single study\n",
    "**path to data file**: {{path_to_data_file}}\n",
    "\n",
    "## Setup & Data loading"
   ]
  },
  {
   "cell_type": "code",
   "execution_count": null,
   "metadata": {
    "ExecuteTime": {
     "end_time": "2019-05-06T22:00:21.530180Z",
     "start_time": "2019-05-06T22:00:21.459136Z"
    }
   },
   "outputs": [],
   "source": [
    "path_to_data_file = {{path_to_data_file}}"
   ]
  },
  {
   "cell_type": "code",
   "execution_count": null,
   "metadata": {},
   "outputs": [],
   "source": [
    "import matplotlib.pyplot as plt\n",
    "import numpy as np\n",
    "import json\n",
    "from pprint import pprint\n",
    "\n",
    "def load_json(path):\n",
    "    with open(path, 'r') as f:\n",
    "        data = json.load(f)\n",
    "    return data\n",
    "\n",
    "data = load_json(path_to_data_file)\n",
    "print(list(data.keys()))\n",
    "\n",
    "starts_infos = data['start_infos'][0]\n",
    "pprint(starts_infos)"
   ]
  },
  {
   "cell_type": "markdown",
   "metadata": {
    "ExecuteTime": {
     "end_time": "2019-05-06T22:29:00.322201Z",
     "start_time": "2019-05-06T22:29:00.319648Z"
    }
   },
   "source": [
    "## Search trajectory\n",
    "### Raw rewards\n",
    "Rewards are ploted in the same order they are received."
   ]
  },
  {
   "cell_type": "code",
   "execution_count": null,
   "metadata": {},
   "outputs": [],
   "source": [
    "avr_reward_mbatches = [np.mean(stats['rewards']) for stats in data['env_stats']]\n",
    "start_time = to_sec(starts_infos['timestamp'])\n",
    "times = [to_sec(stats['timestamp'])-start_time for stats in data['env_stats']]\n",
    "\n",
    "plt.plot(times, avr_reward_mbatches)\n",
    "plt.ylabel('Reward')\n",
    "plt.xlabel('Time (s.)')\n",
    "plt.show()"
   ]
  },
  {
   "cell_type": "code",
   "execution_count": null,
   "metadata": {},
   "outputs": [],
   "source": []
  }
 ],
 "metadata": {
  "kernelspec": {
   "display_name": "Python 3",
   "language": "python",
   "name": "python3"
  },
  "language_info": {
   "codemirror_mode": {
    "name": "ipython",
    "version": 3
   },
   "file_extension": ".py",
   "mimetype": "text/x-python",
   "name": "python",
   "nbconvert_exporter": "python",
   "pygments_lexer": "ipython3",
   "version": "3.7.2"
  },
  "toc": {
   "base_numbering": 1,
   "nav_menu": {},
   "number_sections": true,
   "sideBar": true,
   "skip_h1_title": false,
   "title_cell": "Table of Contents",
   "title_sidebar": "Contents",
   "toc_cell": false,
   "toc_position": {},
   "toc_section_display": true,
   "toc_window_display": false
  }
 },
 "nbformat": 4,
 "nbformat_minor": 2
}
